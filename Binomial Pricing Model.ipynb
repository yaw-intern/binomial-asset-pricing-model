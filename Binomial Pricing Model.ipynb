{
 "cells": [
  {
   "cell_type": "markdown",
   "id": "94457f4e",
   "metadata": {},
   "source": [
    "# Binomial Asset Pricing Model\n",
    "The binomial tree will be a network with two nodes: i and j. \n",
    "<ul>\n",
    "    <li>i = the time steps</li>\n",
    "    <li>j = number of ordered price outcome (lowest (bottom of tree) to highest</li>\n",
    "</ul>"
   ]
  },
  {
   "cell_type": "code",
   "execution_count": 1,
   "id": "b171cd43",
   "metadata": {},
   "outputs": [],
   "source": [
    "import numpy as np"
   ]
  },
  {
   "cell_type": "code",
   "execution_count": 3,
   "id": "b85b7ea5",
   "metadata": {},
   "outputs": [],
   "source": [
    "#Initial parameters\n",
    "S0 = 100    #initial stock price\n",
    "K= 100      #Strike price\n",
    "T = 1       #Time to maturity in years\n",
    "r = 0.06    #annual risk-free rate\n",
    "N = 3       #number of time steps\n",
    "u = 1.1     #up-factor\n",
    "d= 1/u      #down-factor\n",
    "opttype = 'C' #Option type (Call/Put)"
   ]
  },
  {
   "cell_type": "markdown",
   "id": "6e2a71a3",
   "metadata": {},
   "source": [
    "## Build Tree"
   ]
  },
  {
   "cell_type": "code",
   "execution_count": 9,
   "id": "5e99f6c4",
   "metadata": {},
   "outputs": [
    {
     "data": {
      "text/plain": [
       "10.145735799928826"
      ]
     },
     "execution_count": 9,
     "metadata": {},
     "output_type": "execute_result"
    }
   ],
   "source": [
    "def binomial_tree_fast(K,T,S0,r,N,u,d,opttype='C'):\n",
    "    #precompute constants\n",
    "    dt = T/N \n",
    "    q=(np.exp(r*dt)-d) / (u-d)\n",
    "    discount = np.exp(-r*dt)\n",
    "\n",
    "    #initialise asset prices at maturity - Time Step N\n",
    "    C = S0*d**(np.arange(N, -1, -1)) *u**(np.arange(0,N+1,1))\n",
    "    \n",
    "    #intialise option values at maturity\n",
    "    C = np.maximum(C-K, np.zeros(N+1))\n",
    "    \n",
    "    #step backwards through tree\n",
    "    for i in np.arange(N, 0, -1):\n",
    "        C = discount*(q*C[1:i+1] + (1-q) * C[0:i])\n",
    "    \n",
    "    return C[0]\n",
    "\n",
    "binomial_tree_fast(K,T,S0,r,N,u,d,opttype='C')"
   ]
  }
 ],
 "metadata": {
  "kernelspec": {
   "display_name": "Python 3 (ipykernel)",
   "language": "python",
   "name": "python3"
  },
  "language_info": {
   "codemirror_mode": {
    "name": "ipython",
    "version": 3
   },
   "file_extension": ".py",
   "mimetype": "text/x-python",
   "name": "python",
   "nbconvert_exporter": "python",
   "pygments_lexer": "ipython3",
   "version": "3.10.9"
  }
 },
 "nbformat": 4,
 "nbformat_minor": 5
}
